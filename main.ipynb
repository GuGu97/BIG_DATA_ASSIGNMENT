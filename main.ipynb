{
 "cells": [
  {
   "cell_type": "code",
   "execution_count": null,
   "id": "9d084187",
   "metadata": {},
   "outputs": [],
   "source": [
    "import utils.stocks as stock\n",
    "\n",
    "ALL_STOCKS = stock.DJIA_STOCK_LIST"
   ]
  },
  {
   "cell_type": "code",
   "execution_count": null,
   "id": "27a4aa23",
   "metadata": {},
   "outputs": [],
   "source": [
    "import utils.loader as loader\n",
    "\n",
    "loader.store_all_ticker(ALL_STOCKS)\n",
    "loader.calculate_indicators_all(ALL_STOCKS)\n",
    "full_df, stock_encoder, scaler = loader.construct_all_stocks()"
   ]
  },
  {
   "cell_type": "code",
   "execution_count": 10,
   "id": "6d605a26",
   "metadata": {},
   "outputs": [],
   "source": [
    "train_end = \"2023-12-05\"\n",
    "val_end = \"2024-05-03\"\n",
    "test_end = \"2025-01-01\"\n",
    "\n",
    "train_df = full_df[full_df[\"date\"] <= train_end]\n",
    "val_df = full_df[(full_df[\"date\"] > train_end) & (full_df[\"date\"] <= val_end)]\n",
    "test_df = full_df[(full_df[\"date\"] > val_end) & (full_df[\"date\"] <= test_end)]"
   ]
  },
  {
   "cell_type": "code",
   "execution_count": null,
   "id": "b25a1778",
   "metadata": {},
   "outputs": [],
   "source": []
  }
 ],
 "metadata": {
  "kernelspec": {
   "display_name": ".venv",
   "language": "python",
   "name": "python3"
  },
  "language_info": {
   "codemirror_mode": {
    "name": "ipython",
    "version": 3
   },
   "file_extension": ".py",
   "mimetype": "text/x-python",
   "name": "python",
   "nbconvert_exporter": "python",
   "pygments_lexer": "ipython3",
   "version": "3.10.12"
  }
 },
 "nbformat": 4,
 "nbformat_minor": 5
}
